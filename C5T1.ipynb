{
 "cells": [
  {
   "cell_type": "code",
   "execution_count": 1,
   "metadata": {},
   "outputs": [],
   "source": [
    "import numpy\n",
    "from scipy import stats\n",
    "import pandas"
   ]
  },
  {
   "cell_type": "code",
   "execution_count": 2,
   "metadata": {},
   "outputs": [],
   "source": [
    "import math"
   ]
  },
  {
   "cell_type": "code",
   "execution_count": 3,
   "metadata": {},
   "outputs": [
    {
     "data": {
      "text/plain": [
       "0.5223321385772172"
      ]
     },
     "execution_count": 3,
     "metadata": {},
     "output_type": "execute_result"
    }
   ],
   "source": [
    "from numpy import random\n",
    "import numpy as np\n",
    "# uniform random numbers in [0,1]\n",
    "dataOne = random.rand(5,5)\n",
    "np.mean(dataOne)"
   ]
  },
  {
   "cell_type": "code",
   "execution_count": 2,
   "metadata": {},
   "outputs": [],
   "source": [
    "def sayHi():\n",
    "    print('Hi there')\n",
    "    "
   ]
  },
  {
   "cell_type": "code",
   "execution_count": 3,
   "metadata": {},
   "outputs": [
    {
     "name": "stdout",
     "output_type": "stream",
     "text": [
      "Hi there\n"
     ]
    }
   ],
   "source": [
    "sayHi()\n"
   ]
  },
  {
   "cell_type": "code",
   "execution_count": 4,
   "metadata": {},
   "outputs": [],
   "source": [
    "def doSum(value1, value2):\n",
    "    return value1+value2\n",
    "    "
   ]
  },
  {
   "cell_type": "code",
   "execution_count": 5,
   "metadata": {},
   "outputs": [
    {
     "data": {
      "text/plain": [
       "5"
      ]
     },
     "execution_count": 5,
     "metadata": {},
     "output_type": "execute_result"
    }
   ],
   "source": [
    "doSum(2,3)"
   ]
  },
  {
   "cell_type": "code",
   "execution_count": 7,
   "metadata": {},
   "outputs": [],
   "source": [
    "def DisplayMulti(Argcount =0, *VarArgs):\n",
    "    print('You passed '+ str(Argcount) + ' arguments.', VarArgs)\n",
    "    "
   ]
  },
  {
   "cell_type": "code",
   "execution_count": 8,
   "metadata": {},
   "outputs": [
    {
     "name": "stdout",
     "output_type": "stream",
     "text": [
      "Passed 4 arguments. (1, 1)\n"
     ]
    }
   ],
   "source": [
    "DisplayMulti(4,1,1)"
   ]
  },
  {
   "cell_type": "code",
   "execution_count": 13,
   "metadata": {},
   "outputs": [],
   "source": [
    "def DisplayMulti(*VarArgs):\n",
    "    #text = input (\"Type Eric, Ron, or Dory\")\n",
    "    for arg in VarArgs:\n",
    "        print(arg)\n",
    "        if arg.upper() == 'Eric':\n",
    "         print(' You typed Eric')\n",
    "        elif arg.upper() =='Dory':\n",
    "            print(' You typed Dory')\n",
    "        elif arg.upper() == 'Ron':\n",
    "            print (' You typed Ron')\n",
    "        else:\n",
    "            print(' You did not type Eric, Ron or Dory')\n",
    "            "
   ]
  },
  {
   "cell_type": "code",
   "execution_count": 14,
   "metadata": {},
   "outputs": [
    {
     "name": "stdout",
     "output_type": "stream",
     "text": [
      "Eric\n",
      " You typed Eric\n"
     ]
    }
   ],
   "source": [
    "DisplayMulti('Eric')"
   ]
  },
  {
   "cell_type": "code",
   "execution_count": null,
   "metadata": {},
   "outputs": [],
   "source": [
    "def secretnumber():\n",
    "    Gotit = False\n",
    "    while Gotit == False:\n",
    "        one= int(input(\"Type a number between 1 and 10 \"))\n",
    "        two = int(input(\"Type a number between 1 and 10 \"))\n",
    "        \n",
    "        if (one>=1 ) and (one <=10):\n",
    "            if (two>=1) and (two<=10):\n",
    "                print('Your secret number is ' + str (one*two))\n",
    "                Gotit == True\n",
    "                continue\n",
    "            else:\n",
    "                print ('Incorrect second value')\n",
    "        else:\n",
    "            print ('Incorrect first value')\n",
    "        "
   ]
  },
  {
   "cell_type": "code",
   "execution_count": null,
   "metadata": {},
   "outputs": [],
   "source": [
    "secretnumber()"
   ]
  },
  {
   "cell_type": "code",
   "execution_count": null,
   "metadata": {},
   "outputs": [],
   "source": [
    "from sets import Set\n",
    "setA = Set(['Red','Blue','Green'])\n",
    "setB =Set(['Red','Green','Black'])\n",
    "setC = setA.union(setB)\n",
    "setD = setA.intersection(setB)\n",
    "setE= setA.difference(setB)\n",
    "\n"
   ]
  },
  {
   "cell_type": "code",
   "execution_count": null,
   "metadata": {},
   "outputs": [],
   "source": [
    "print '{0}\\n{1}\\n{2}'.format(setC,setD,setE)"
   ]
  }
 ],
 "metadata": {
  "kernelspec": {
   "display_name": "Python 3",
   "language": "python",
   "name": "python3"
  },
  "language_info": {
   "codemirror_mode": {
    "name": "ipython",
    "version": 3
   },
   "file_extension": ".py",
   "mimetype": "text/x-python",
   "name": "python",
   "nbconvert_exporter": "python",
   "pygments_lexer": "ipython3",
   "version": "3.7.1"
  }
 },
 "nbformat": 4,
 "nbformat_minor": 2
}
